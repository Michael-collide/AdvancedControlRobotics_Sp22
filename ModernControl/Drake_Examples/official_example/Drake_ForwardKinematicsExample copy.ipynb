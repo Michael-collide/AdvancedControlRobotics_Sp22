{
 "cells": [
  {
   "cell_type": "code",
   "execution_count": 2,
   "metadata": {},
   "outputs": [
    {
     "name": "stdout",
     "output_type": "stream",
     "text": [
      "Meshcat is now available at http://localhost:7002\n"
     ]
    }
   ],
   "source": [
    "import numpy as np\n",
    "import pydot\n",
    "from IPython.display import display, SVG, clear_output\n",
    "\n",
    "from pydrake.math import RigidTransform, RollPitchYaw\n",
    "from pydrake.multibody.plant import AddMultibodyPlantSceneGraph\n",
    "from pydrake.all import (Parser, StartMeshcat, DiagramBuilder,\n",
    "                        MeshcatVisualizerCpp, JacobianWrtVariable,\n",
    "                        MakeRenderEngineVtk, RenderEngineVtkParams)\n",
    "from pydrake.geometry import (Box, Cylinder)\n",
    "from pydrake.multibody.tree import (PrismaticJoint, UnitInertia, SpatialInertia, RevoluteJoint, FixedOffsetFrame, WeldJoint)\n",
    "from manipulation.meshcat_cpp_utils import MeshcatJointSliders\n",
    "from manipulation.scenarios import AddMultibodyTriad\n",
    "meshcat = StartMeshcat()"
   ]
  },
  {
   "cell_type": "code",
   "execution_count": 22,
   "metadata": {},
   "outputs": [],
   "source": [
    "# Build robot model in Drake\n",
    "builder = DiagramBuilder()\n",
    "plant, scene_graph = AddMultibodyPlantSceneGraph(builder, 0.0)\n",
    "\n",
    "# parameters\n",
    "L0 = 1.2 #lenght of link 0\n",
    "L1 = 0.5\n",
    "L2 = 0.8\n",
    "\n",
    "RGBA_Color0 = [0.5, 0.5, 0.5, 0.4]\n",
    "RGBA_Color1 = [0, 0.5, 0.5, 0.4]\n",
    "RGBA_Color2 = [0.9, 0, 0, 0.4]\n",
    "\n",
    "my_model_instance = plant.AddModelInstance(\"my_robot\")\n",
    "\n",
    "#SpatialInertia(mass, reference point (wrt CoM), UnitInertia()): 6x6 matrix\n",
    "default_inertia = SpatialInertia(1, [0, 0, L0/2], UnitInertia(1, 1, 1))  #This does not matter for kinematics\n",
    "\n",
    "link_0 = plant.AddRigidBody(\"link_0\", my_model_instance, default_inertia)\n",
    "\n",
    "link_1 = plant.AddRigidBody(\"link_1\", my_model_instance, default_inertia)\n",
    "\n",
    "link_2 = plant.AddRigidBody(\"link_2\", my_model_instance, default_inertia)\n",
    "\n",
    "# plant.RegisterVisualGeometry(body, \n",
    "c =0.05\n",
    "plant.RegisterVisualGeometry(\n",
    "    link_0,\n",
    "    RigidTransform(RollPitchYaw(0, 0, 0), [0, 0, L0/2]),\n",
    "    Cylinder(c, L0),\n",
    "    \"link_0\",\n",
    "    RGBA_Color0)\n",
    "plant.RegisterVisualGeometry(\n",
    "    link_1,\n",
    "    RigidTransform(RollPitchYaw(0, 0, 0), [0, 0, L1/2]),\n",
    "    Box(c,c, L1),\n",
    "    \"link_1\",\n",
    "    RGBA_Color1)\n",
    "plant.RegisterVisualGeometry(\n",
    "    link_2,\n",
    "    RigidTransform(RollPitchYaw(0, 0, 0), [0, 0, L2/2]),\n",
    "    Box(c,c, L2),\n",
    "    \"link_2\",\n",
    "    RGBA_Color2)\n",
    "\n",
    "\n",
    "Joint1_Frame = plant.AddFrame(FixedOffsetFrame(\n",
    "    link_0,\n",
    "    RigidTransform(RollPitchYaw(0, np.pi/2, 0), [0, 0, L0])))\n",
    "\n",
    "Joint2_Frame = plant.AddFrame(FixedOffsetFrame(\n",
    "    link_1,\n",
    "    RigidTransform(RollPitchYaw(0, np.pi/2, 0), [0, 0, L1])))\n",
    "\n",
    "Joint1 = plant.AddJoint(RevoluteJoint(\n",
    "    name=\"Joint1\", frame_on_parent=Joint1_Frame,\n",
    "    frame_on_child=link_1.body_frame(), axis=[-1, 0, 0],\n",
    "    pos_lower_limit=-3.14,\n",
    "    pos_upper_limit=3.14,\n",
    "    damping=0.0))\n",
    "Joint2 = plant.AddJoint(RevoluteJoint(\n",
    "    name=\"Joint2\", frame_on_parent=Joint2_Frame,\n",
    "    frame_on_child=link_2.body_frame(), axis=[0, -1, 0],\n",
    "    pos_lower_limit=-3.14,\n",
    "    pos_upper_limit=3.14,\n",
    "    damping=0.0))\n",
    "\n",
    "plant.WeldFrames(\n",
    "    frame_on_parent_P=plant.world_frame(),\n",
    "    frame_on_child_C=link_0.body_frame(),\n",
    "    X_PC=RigidTransform.Identity())\n",
    "\n",
    "\n",
    "# add frames of interest\n",
    "G = plant.AddFrame(FixedOffsetFrame('EndEffector',\n",
    "    link_2,\n",
    "    RigidTransform(RollPitchYaw(0, -np.pi/2, 0), [0, 0, L2])))\n",
    "\n",
    "# Draw RGB frames for visualization\n",
    "for body_name in [\"link_0\", \"link_1\", 'EndEffector']:\n",
    "    AddMultibodyTriad(plant.GetFrameByName(body_name), scene_graph, 0.20, 0.008)\n"
   ]
  },
  {
   "cell_type": "code",
   "execution_count": 23,
   "metadata": {},
   "outputs": [],
   "source": [
    "# Finalize and visualize\n",
    "plant.Finalize()\n",
    "renderer_name = \"renderer\"\n",
    "scene_graph.AddRenderer(renderer_name, MakeRenderEngineVtk(RenderEngineVtkParams()))\n",
    "meshcat.Delete()\n",
    "meshcat_vis = MeshcatVisualizerCpp.AddToBuilder(builder, scene_graph, meshcat)\n",
    "diagram = builder.Build()\n",
    "diagram_context = diagram.CreateDefaultContext()\n",
    "diagram.Publish(diagram_context)"
   ]
  },
  {
   "cell_type": "code",
   "execution_count": 24,
   "metadata": {},
   "outputs": [
    {
     "name": "stdout",
     "output_type": "stream",
     "text": [
      "RigidTransform(\n",
      "  R=RotationMatrix([\n",
      "    [1.0, 0.0, 0.0],\n",
      "    [0.0, 1.0, 0.0],\n",
      "    [0.0, 0.0, 1.0],\n",
      "  ]),\n",
      "  p=[1.3, 0.0, 1.2],\n",
      ")\n"
     ]
    }
   ],
   "source": [
    "# Get world frame\n",
    "theta1=0\n",
    "theta2=np.pi/2\n",
    "plant.SetPositions(plant.GetMyContextFromRoot(diagram_context), my_model_instance, [theta1, theta2]) # theta1, theta2\n",
    "diagram.Publish(diagram_context)\n",
    "plant_context = plant.GetMyMutableContextFromRoot(diagram_context)\n",
    "X_WG=G.CalcPoseInWorld(plant_context)\n",
    "print(X_WG)\n"
   ]
  },
  {
   "cell_type": "code",
   "execution_count": 25,
   "metadata": {},
   "outputs": [
    {
     "name": "stdout",
     "output_type": "stream",
     "text": [
      "[[ 1.00000000e+00  0.00000000e+00  1.11022302e-16  1.30000000e+00]\n",
      " [ 0.00000000e+00  1.00000000e+00  0.00000000e+00  0.00000000e+00]\n",
      " [-1.11022302e-16  0.00000000e+00  1.00000000e+00  1.20000000e+00]\n",
      " [ 0.00000000e+00  0.00000000e+00  0.00000000e+00  1.00000000e+00]]\n"
     ]
    }
   ],
   "source": [
    "# now let's verify using PoE \n",
    "\n",
    "import modern_robotics as mr\n",
    "\n",
    "# step 0: compute M \n",
    "M = mr.RpToTrans(np.array([[0,0,1],[0,1,0],[-1,0,0]]), np.array([L1, 0, L0-L2]))\n",
    "# step 1: compute all the screw axis\n",
    "Sbar_2_0=mr.ScrewToAxis(np.array([L1,0,L0]),np.array([0,-1,0]),0)\n",
    "Sbar_1_0=mr.ScrewToAxis(np.array([0,0,0]),np.array([0,0,1]),0)\n",
    "\n",
    "def myPoE(theta1,theta2):\n",
    "    SbarMatrix_2_0=mr.VecTose3(Sbar_2_0)\n",
    "    SbarMatrix_1_0=mr.VecTose3(Sbar_1_0)\n",
    "    return mr.MatrixExp6(SbarMatrix_1_0*theta1)@mr.MatrixExp6(SbarMatrix_2_0*theta2)@M\n",
    "\n",
    "Tbs = myPoE(theta1,theta2)\n",
    "print(Tbs)"
   ]
  },
  {
   "cell_type": "code",
   "execution_count": 26,
   "metadata": {},
   "outputs": [
    {
     "name": "stdout",
     "output_type": "stream",
     "text": [
      "[[ 0.   0. ]\n",
      " [ 0.  -1. ]\n",
      " [ 1.   0. ]\n",
      " [ 0.  -1.2]\n",
      " [ 0.   0. ]\n",
      " [ 0.   0.5]]\n",
      "[[-6.123234e-17  0.000000e+00]\n",
      " [ 0.000000e+00 -1.000000e+00]\n",
      " [ 1.000000e+00 -0.000000e+00]\n",
      " [ 0.000000e+00  0.000000e+00]\n",
      " [ 1.300000e+00  0.000000e+00]\n",
      " [ 0.000000e+00  8.000000e-01]]\n"
     ]
    }
   ],
   "source": [
    "#Blist = np.array([[0,0,1,0,0,0],[0,-1,0,1.2,0,-0.5]]).T\n",
    "Blist = np.array([[0,0,1,0,0,0],[0,-1,0,-1.2,0,0.5]]).T\n",
    "my_J = mr.JacobianSpace(Blist, np.array([theta1, theta2]))\n",
    "print(my_J)\n",
    "\n",
    "W = plant.world_frame()\n",
    "J_WG = plant.CalcJacobianSpatialVelocity(plant_context,JacobianWrtVariable.kV, G, [0,0,0],W,W )\n",
    "print(J_WG)\n"
   ]
  }
 ],
 "metadata": {
  "interpreter": {
   "hash": "916dbcbb3f70747c44a77c7bcd40155683ae19c65e1c03b4aa3499c5328201f1"
  },
  "kernelspec": {
   "display_name": "drake_env",
   "language": "python",
   "name": "python3"
  },
  "language_info": {
   "codemirror_mode": {
    "name": "ipython",
    "version": 3
   },
   "file_extension": ".py",
   "mimetype": "text/x-python",
   "name": "python",
   "nbconvert_exporter": "python",
   "pygments_lexer": "ipython3",
   "version": "3.8.10"
  },
  "orig_nbformat": 4
 },
 "nbformat": 4,
 "nbformat_minor": 2
}
