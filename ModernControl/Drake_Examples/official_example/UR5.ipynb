{
 "cells": [
  {
   "cell_type": "code",
   "execution_count": 18,
   "metadata": {},
   "outputs": [],
   "source": [
    "import pinocchio as pin\n",
    "from pinocchio.visualize import MeshcatVisualizer\n",
    "import numpy as np\n"
   ]
  },
  {
   "cell_type": "code",
   "execution_count": 19,
   "metadata": {},
   "outputs": [],
   "source": [
    "cwd = os.path.abspath(os.getcwd())\n",
    "urdf_model_path = cwd + \"/ur_description/urdf/ur5_robot_simple.urdf\"\n",
    "mesh_dir = cwd + \"/ur_description/meshes\"\n",
    "\n",
    "model, collision_model, visual_model = pin.buildModelsFromUrdf(urdf_model_path, mesh_dir)\n",
    "\n",
    "data = model.createData()"
   ]
  },
  {
   "cell_type": "code",
   "execution_count": 20,
   "metadata": {},
   "outputs": [
    {
     "output_type": "stream",
     "name": "stdout",
     "text": [
      "universe\nshoulder_pan_joint\nshoulder_lift_joint\nelbow_joint\nwrist_1_joint\nwrist_2_joint\nwrist_3_joint\n"
     ]
    }
   ],
   "source": [
    "for jointName in model.names:\n",
    "    print(jointName)"
   ]
  },
  {
   "cell_type": "code",
   "execution_count": 28,
   "metadata": {},
   "outputs": [
    {
     "output_type": "stream",
     "name": "stdout",
     "text": [
      "wrist 3 joint:  6\n"
     ]
    }
   ],
   "source": [
    "jointIndex = model.getJointId(\"wrist_3_joint\")\n",
    "print(\"wrist 3 joint: \", jointIndex)"
   ]
  },
  {
   "cell_type": "code",
   "execution_count": 38,
   "metadata": {},
   "outputs": [
    {
     "output_type": "stream",
     "name": "stdout",
     "text": [
      "You can open the visualizer by visiting the following URL:\nhttp://127.0.0.1:7004/static/\n"
     ]
    },
    {
     "output_type": "execute_result",
     "data": {
      "text/plain": [
       "  R =\n",
       " 0.416147         0  0.909297\n",
       "        0         1         0\n",
       "-0.909297         0  0.416147\n",
       "  p =  0.15246  0.10915 0.842844"
      ]
     },
     "metadata": {},
     "execution_count": 38
    }
   ],
   "source": [
    "q = np.array([0., -1, -1, 0., 0., 0.])\n",
    "v = np.array([0., 0., 0., 0., 0., 0.])\n",
    "\n",
    "viz = MeshcatVisualizer(model, collision_model, visual_model)\n",
    "viz.initViewer(open=True)\n",
    "viz.loadViewerModel()\n",
    "viz.display(q)\n",
    "\n",
    "pin.forwardKinematics(model, data, q)\n",
    "data.oMi[jointIndex]\n"
   ]
  },
  {
   "cell_type": "code",
   "execution_count": 24,
   "metadata": {},
   "outputs": [
    {
     "output_type": "stream",
     "name": "stdout",
     "text": [
      "universe\nroot_joint\nbase_link\nshoulder_pan_joint\nshoulder_link\nshoulder_lift_joint\nupper_arm_link\nelbow_joint\nforearm_link\nwrist_1_joint\nwrist_1_link\nwrist_2_joint\nwrist_2_link\nwrist_3_joint\nwrist_3_link\nee_fixed_joint\nee_link\n"
     ]
    }
   ],
   "source": [
    "for f in model.frames:\n",
    "    print(f.name)"
   ]
  },
  {
   "cell_type": "code",
   "execution_count": 26,
   "metadata": {},
   "outputs": [
    {
     "output_type": "execute_result",
     "data": {
      "text/plain": [
       "  R =\n",
       "2.03772e-12   -0.416147    0.909297\n",
       "          1 4.89664e-12           0\n",
       "-4.4525e-12    0.909297    0.416147\n",
       "  p =  0.15246  0.19145 0.842844"
      ]
     },
     "metadata": {},
     "execution_count": 26
    }
   ],
   "source": [
    "pin.framesForwardKinematics(model, data, q)\n",
    "frameIndex = model.getFrameId('ee_link')\n",
    "data.oMf[frameIndex]\n"
   ]
  },
  {
   "cell_type": "code",
   "execution_count": 37,
   "metadata": {},
   "outputs": [
    {
     "output_type": "stream",
     "name": "stdout",
     "text": [
      "  R =\n 0.615572   0.77987  0.113464\n-0.259763  0.336718 -0.905066\n-0.744039   0.52766  0.409856\n  p = -0.302214 -0.871657 -0.959954\n\n"
     ]
    },
    {
     "output_type": "execute_result",
     "data": {
      "text/plain": [
       "  v =  0.347261     -1.33 -0.442958\n",
       "  w =   1.01155  0.605423 -0.734013"
      ]
     },
     "metadata": {},
     "execution_count": 37
    }
   ],
   "source": [
    "# Distance\n",
    "T_wb = pin.SE3.Identity()\n",
    "T_wd = pin.SE3.Random()\n",
    "print(T_wd)\n",
    "pin.log(T_wb.inverse() * T_wd)\n"
   ]
  },
  {
   "cell_type": "code",
   "execution_count": 42,
   "metadata": {},
   "outputs": [],
   "source": [
    "import time\n",
    "viz.display(q)\n",
    "N_SIMULATION = 1000\n",
    "dt = 0.001\n",
    "for i in range(N_SIMULATION):\n",
    "    # forward dynamics\n",
    "    \n",
    "    # CRBA\n",
    "    # M = pin.crba(model,data,q)\n",
    "    # nle = pin.nle(model,data,q,v)\n",
    "    # dv = -np.linalg.inv(M) @ nle\n",
    "    \n",
    "    # ABA\n",
    "    tau = np.zeros(6)\n",
    "    dv = pin.aba(model,data,q,v,tau)\n",
    "    \n",
    "    v += dv*dt\n",
    "    q += dt*v + 0.5*dv*dt*dt \n",
    "\n",
    "    viz.display(q)\n",
    "    time.sleep(dt)"
   ]
  },
  {
   "cell_type": "code",
   "execution_count": null,
   "metadata": {},
   "outputs": [],
   "source": []
  }
 ],
 "metadata": {
  "kernelspec": {
   "display_name": "Python 2",
   "language": "python",
   "name": "python2"
  }
 },
 "nbformat": 4,
 "nbformat_minor": 4
}